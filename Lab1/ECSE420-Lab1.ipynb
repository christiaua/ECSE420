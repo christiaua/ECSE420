{
  "nbformat": 4,
  "nbformat_minor": 0,
  "metadata": {
    "colab": {
      "name": "ECSE420-Lab1.ipynb",
      "provenance": [],
      "collapsed_sections": [
        "s64Ehe-0sI0L",
        "flm_QKLg1LcP",
        "cR4oSC-FTvbx",
        "NvGQ1Aqhs2-V",
        "b4uyq_z8mMpu",
        "SWbPuJouZK81"
      ],
      "toc_visible": true,
      "include_colab_link": true
    },
    "kernelspec": {
      "name": "python3",
      "display_name": "Python 3"
    },
    "accelerator": "GPU"
  },
  "cells": [
    {
      "cell_type": "markdown",
      "metadata": {
        "id": "view-in-github",
        "colab_type": "text"
      },
      "source": [
        "<a href=\"https://colab.research.google.com/github/christiaua/ECSE420/blob/master/Lab1/ECSE420-Lab1.ipynb\" target=\"_parent\"><img src=\"https://colab.research.google.com/assets/colab-badge.svg\" alt=\"Open In Colab\"/></a>"
      ]
    },
    {
      "cell_type": "code",
      "metadata": {
        "id": "OkoLX8JsZmIA",
        "outputId": "ee5d51c5-f171-40d7-a780-a735129a25e7",
        "colab": {
          "base_uri": "https://localhost:8080/",
          "height": 85
        }
      },
      "source": [
        "# Check CUDA version > 9.0\n",
        "!nvcc --version"
      ],
      "execution_count": null,
      "outputs": [
        {
          "output_type": "stream",
          "text": [
            "nvcc: NVIDIA (R) Cuda compiler driver\n",
            "Copyright (c) 2005-2019 NVIDIA Corporation\n",
            "Built on Sun_Jul_28_19:07:16_PDT_2019\n",
            "Cuda compilation tools, release 10.1, V10.1.243\n"
          ],
          "name": "stdout"
        }
      ]
    },
    {
      "cell_type": "markdown",
      "metadata": {
        "id": "s64Ehe-0sI0L"
      },
      "source": [
        "# Setup environment"
      ]
    },
    {
      "cell_type": "code",
      "metadata": {
        "id": "LZkfZdSc4HAc"
      },
      "source": [
        "%%script bash\n",
        "\n",
        "# Remove `/sample_data` & create our folders\n",
        "rm -rf sample_data\n",
        "rm -rf input\n",
        "rm -rf output\n",
        "\n",
        "mkdir input\n",
        "mkdir output"
      ],
      "execution_count": null,
      "outputs": []
    },
    {
      "cell_type": "markdown",
      "metadata": {
        "id": "sm9tmE9J3QRI"
      },
      "source": [
        "## Curl provided files"
      ]
    },
    {
      "cell_type": "code",
      "metadata": {
        "id": "0MRrVtNo3Wn0",
        "outputId": "fb0318d2-be9e-4ca2-b699-25d1b784ae72",
        "colab": {
          "base_uri": "https://localhost:8080/"
        }
      },
      "source": [
        "%%script bash\n",
        "\n",
        "cd input/\n",
        "\n",
        "# save files in `/input`\n",
        "curl https://raw.githubusercontent.com/christiaua/ECSE420/master/Lab1/files/input_10000.txt > input_10000.txt\n",
        "curl https://raw.githubusercontent.com/christiaua/ECSE420/master/Lab1/files/input_100000.txt > input_100000.txt\n",
        "curl https://raw.githubusercontent.com/christiaua/ECSE420/master/Lab1/files/input_1000000.txt > input_1000000.txt\n",
        "curl https://raw.githubusercontent.com/christiaua/ECSE420/master/Lab1/files/sol_10000.txt > sol_10000.txt\n",
        "curl https://raw.githubusercontent.com/christiaua/ECSE420/master/Lab1/files/sol_100000.txt > sol_100000.txt\n",
        "curl https://raw.githubusercontent.com/christiaua/ECSE420/master/Lab1/files/sol_1000000.txt > sol_1000000.txt"
      ],
      "execution_count": null,
      "outputs": [
        {
          "output_type": "stream",
          "text": [
            "  % Total    % Received % Xferd  Average Speed   Time    Time     Time  Current\n",
            "                                 Dload  Upload   Total   Spent    Left  Speed\n",
            "\r  0     0    0     0    0     0      0      0 --:--:-- --:--:-- --:--:--     0\r100 60000  100 60000    0     0  94488      0 --:--:-- --:--:-- --:--:-- 94488\n",
            "  % Total    % Received % Xferd  Average Speed   Time    Time     Time  Current\n",
            "                                 Dload  Upload   Total   Spent    Left  Speed\n",
            "\r  0     0    0     0    0     0      0      0 --:--:-- --:--:-- --:--:--     0\r  0     0    0     0    0     0      0      0 --:--:-- --:--:-- --:--:--     0\r100  585k  100  585k    0     0  1678k      0 --:--:-- --:--:-- --:--:-- 1678k\n",
            "  % Total    % Received % Xferd  Average Speed   Time    Time     Time  Current\n",
            "                                 Dload  Upload   Total   Spent    Left  Speed\n",
            "\r  0     0    0     0    0     0      0      0 --:--:-- --:--:-- --:--:--     0\r 14 5859k   14  846k    0     0  1305k      0  0:00:04 --:--:--  0:00:04 1303k\r100 5859k  100 5859k    0     0  7128k      0 --:--:-- --:--:-- --:--:-- 7119k\n",
            "  % Total    % Received % Xferd  Average Speed   Time    Time     Time  Current\n",
            "                                 Dload  Upload   Total   Spent    Left  Speed\n",
            "\r  0     0    0     0    0     0      0      0 --:--:-- --:--:-- --:--:--     0\r100 20000  100 20000    0     0    97k      0 --:--:-- --:--:-- --:--:--   97k\n",
            "  % Total    % Received % Xferd  Average Speed   Time    Time     Time  Current\n",
            "                                 Dload  Upload   Total   Spent    Left  Speed\n",
            "\r  0     0    0     0    0     0      0      0 --:--:-- --:--:-- --:--:--     0\r100  195k  100  195k    0     0   831k      0 --:--:-- --:--:-- --:--:--  831k\n",
            "  % Total    % Received % Xferd  Average Speed   Time    Time     Time  Current\n",
            "                                 Dload  Upload   Total   Spent    Left  Speed\n",
            "\r  0     0    0     0    0     0      0      0 --:--:-- --:--:-- --:--:--     0\r  0 1953k    0     0    0     0      0      0 --:--:-- --:--:-- --:--:--     0\r100 1953k  100 1953k    0     0  2546k      0 --:--:-- --:--:-- --:--:-- 2543k\n"
          ],
          "name": "stderr"
        }
      ]
    },
    {
      "cell_type": "markdown",
      "metadata": {
        "id": "PZvgtVV6trlh"
      },
      "source": [
        "\n",
        "## Write compareResults.c"
      ]
    },
    {
      "cell_type": "code",
      "metadata": {
        "id": "miJmRyKytiY7",
        "outputId": "4d9d4352-c91c-4781-b597-08adb8dd427f",
        "colab": {
          "base_uri": "https://localhost:8080/",
          "height": 34
        }
      },
      "source": [
        "%%writefile compareResults.c\n",
        "\n",
        "#include <stdio.h>\n",
        "#include <stdlib.h>\n",
        "\n",
        "\n",
        "void compareFiles(char *file_name1, char *file_name2) \n",
        "{ \n",
        "    // get from https://www.tutorialspoint.com/c-program-to-compare-two-files-and-report-mismatches\n",
        "    FILE* fp1 = fopen(file_name1, \"r\");\n",
        "    FILE* fp2 = fopen(file_name2, \"r\");\n",
        " \n",
        "    // fetching character of two file \n",
        "    // in two variable ch1 and ch2 \n",
        "    char ch1 = getc(fp1); \n",
        "    char ch2 = getc(fp2); \n",
        "  \n",
        "    // error keeps track of number of errors \n",
        "    // pos keeps track of position of errors \n",
        "    // line keeps track of error line \n",
        "    int error = 0, pos = 0, line = 1; \n",
        "  \n",
        "    // iterate loop till end of file \n",
        "    while (ch1 != EOF && ch2 != EOF) \n",
        "    { \n",
        "        pos++; \n",
        "  \n",
        "        // if both variable encounters new \n",
        "        // line then line variable is incremented \n",
        "        // and pos variable is set to 0 \n",
        "        if (ch1 == '\\n' && ch2 == '\\n') \n",
        "        { \n",
        "            line++; \n",
        "            pos = 0; \n",
        "        } \n",
        "  \n",
        "        // if fetched data is not equal then \n",
        "        // error is incremented \n",
        "        if (ch1 != ch2) \n",
        "        { \n",
        "            error++; \n",
        "            printf(\"Line Number : %d \\tError\"\n",
        "               \" Position : %d \\n\", line, pos); \n",
        "        } \n",
        "  \n",
        "        // fetching character until end of file \n",
        "        ch1 = getc(fp1); \n",
        "        ch2 = getc(fp2); \n",
        "    } \n",
        "  \n",
        "    printf(\"Total Errors : %d\\t\\n\\n\", error); \n",
        "} \n",
        "\n",
        "int main(int argc, char *argv[]){\n",
        "\n",
        "    if( argc < 3) {\n",
        "      printf(\"Require two files\\n\");\n",
        "      exit(1);\n",
        "    }\n",
        "    \n",
        "    compareFiles(argv[1], argv[2]);\n",
        "}"
      ],
      "execution_count": null,
      "outputs": [
        {
          "output_type": "stream",
          "text": [
            "Overwriting compareResults.c\n"
          ],
          "name": "stdout"
        }
      ]
    },
    {
      "cell_type": "markdown",
      "metadata": {
        "id": "a5L571bgJxUU"
      },
      "source": [
        "# Sequential"
      ]
    },
    {
      "cell_type": "markdown",
      "metadata": {
        "id": "flm_QKLg1LcP"
      },
      "source": [
        "## Write sequential.c"
      ]
    },
    {
      "cell_type": "code",
      "metadata": {
        "id": "0Yh2lmiZ1PhF",
        "outputId": "17947e20-a137-4f80-c243-eee341dd3a10",
        "colab": {
          "base_uri": "https://localhost:8080/",
          "height": 34
        }
      },
      "source": [
        "%%writefile sequential.c\n",
        "\n",
        "#include <stdio.h>\n",
        "#include <stdlib.h>\n",
        "#include <string.h>\n",
        "#include <time.h>\n",
        "\n",
        "#define AND '0'\n",
        "#define OR '1'\n",
        "#define NAND '2'\n",
        "#define NOR '3'\n",
        "#define XOR '4'\n",
        "#define NXOR '5'\n",
        "\n",
        "clock_t time_start;\n",
        "clock_t time_end;\n",
        "\n",
        "void compute(char* inputPath, char* outputPath);\n",
        "\n",
        "int main(int argc, char *argv[]){\n",
        "  if(argc != 4) {\n",
        "    printf(\"Usage: ./sequential <input_file_path> <input_file_length> <output_file_path>\\n\");\n",
        "    exit(1);\n",
        "  }\n",
        "\n",
        "  // Getting inputs\n",
        "  char *input_path = argv[1];\n",
        "  char *output_path = argv[3];\n",
        "  int length = atoi(argv[2]);\n",
        "  printf(\"length: %d\\n\", length);\n",
        "\n",
        "  int *results;\n",
        "  results = (int *) malloc (10000 * sizeof(int));\n",
        "\n",
        "  if(results == NULL){\n",
        "    printf(\"Error: Array was null\\n\");\n",
        "    return -1;\n",
        "  }\n",
        "\n",
        "  // Perform logic gates operation\n",
        "  compute(input_path, output_path);\n",
        "\n",
        "  double time_spent = (double)(time_end - time_start) / CLOCKS_PER_SEC;\n",
        "  printf(\"Runtime for file of length %d: %.3fms\", length, time_spent * 1000);\n",
        "  \n",
        "  return 0;\n",
        "}\n",
        "\n",
        "void compute(char* inputPath, char* outputPath){\n",
        "  FILE* fp = fopen(inputPath, \"r\");\n",
        "  FILE* fp2 = fopen(\"output/100000.txt\", \"w+\");\n",
        "\n",
        "  char * line = NULL;\n",
        "  size_t len = 0;\n",
        "  ssize_t read;\n",
        "  char val1, val2, op;\n",
        "  int res;\n",
        "\n",
        "  if (fp == NULL){\n",
        "    printf(\"Input file failed to open\");\n",
        "    exit(EXIT_FAILURE);\n",
        "  }\n",
        "  if (fp2 == NULL){\n",
        "    printf(\"Output file failed to open\");\n",
        "    exit(EXIT_FAILURE);\n",
        "  }  \n",
        "\n",
        "  time_start = clock();\n",
        "\n",
        "  while ((read = getline(&line, &len, fp)) != -1) {\n",
        "    val1 = line[0];\n",
        "    val2 = line[2];\n",
        "    op = line[4];\n",
        "\n",
        "    switch(op){\n",
        "        case AND:\n",
        "          if (val1 == '1' && val2 == '1'){\n",
        "              res = 1;\n",
        "          } else {\n",
        "              res = 0;\n",
        "          }\n",
        "          fprintf(fp2,\"%d\\n\",res);\n",
        "          break;\n",
        "        case OR:\n",
        "          if (val1 == '0' && val2 == '0'){\n",
        "              res = 0;\n",
        "          } else {\n",
        "              res = 1;\n",
        "          }\n",
        "          fprintf(fp2,\"%d\\n\",res);\n",
        "          break;\n",
        "        case NAND:\n",
        "          if (val1 == '1' && val2 == '1'){\n",
        "              res = 0;\n",
        "          } else {\n",
        "              res = 1;\n",
        "          }\n",
        "          fprintf(fp2,\"%d\\n\",res);\n",
        "          break;\n",
        "        case NOR:\n",
        "          if (val1 == '0' && val2 == '0'){\n",
        "              res = 1;\n",
        "          } else {\n",
        "              res = 0;\n",
        "          }\n",
        "          fprintf(fp2,\"%d\\n\",res);\n",
        "          break;\n",
        "        case XOR:\n",
        "          if ((val1 == '0' && val2 == '0') || (val1 == '1' && val2 == '1')){\n",
        "              res = 0;\n",
        "          } else {\n",
        "              res = 1;\n",
        "          }\n",
        "          fprintf(fp2,\"%d\\n\",res);\n",
        "          break;\n",
        "        case NXOR:\n",
        "          if ((val1 == '0' && val2 == '0') || (val1 == '1' && val2 == '1')){\n",
        "              res = 1;\n",
        "          } else {\n",
        "              res = 0;\n",
        "          }\n",
        "          fprintf(fp2,\"%d\\n\",res);\n",
        "          break;\n",
        "    }\n",
        "  }\n",
        "\n",
        "  time_end = clock();\n",
        "\n",
        "  fclose(fp);\n",
        "  fclose(fp2);\n",
        "\n",
        "}"
      ],
      "execution_count": null,
      "outputs": [
        {
          "output_type": "stream",
          "text": [
            "Writing sequential.c\n"
          ],
          "name": "stdout"
        }
      ]
    },
    {
      "cell_type": "markdown",
      "metadata": {
        "id": "cR4oSC-FTvbx"
      },
      "source": [
        "## Run `./sequential`"
      ]
    },
    {
      "cell_type": "code",
      "metadata": {
        "id": "uetb0nQdBDeS",
        "outputId": "a0850d9e-5b9a-4e9a-c3a5-b535dfe21f11",
        "colab": {
          "base_uri": "https://localhost:8080/",
          "height": 51
        }
      },
      "source": [
        "%%script bash\n",
        "gcc sequential.c  -o sequential\n",
        "\n",
        "length=10000\n",
        "input=\"input/input_${length}.txt\"\n",
        "output=\"output/${length}.txt\"\n",
        "\n",
        "./sequential $input $length $output"
      ],
      "execution_count": null,
      "outputs": [
        {
          "output_type": "stream",
          "text": [
            "length: 10000\n",
            "Input file failed to open"
          ],
          "name": "stdout"
        }
      ]
    },
    {
      "cell_type": "markdown",
      "metadata": {
        "id": "Y-zMG_zx-7-M"
      },
      "source": [
        "# Parallel Explicit"
      ]
    },
    {
      "cell_type": "markdown",
      "metadata": {
        "id": "EaWYeEdF-7-N"
      },
      "source": [
        "\n",
        "## Write parallelal_explicit.cu"
      ]
    },
    {
      "cell_type": "code",
      "metadata": {
        "id": "68CN-krz-7-O",
        "outputId": "bace6aa4-4531-4d20-fe6a-6829d5a9167e",
        "colab": {
          "base_uri": "https://localhost:8080/",
          "height": 34
        }
      },
      "source": [
        "%%writefile parallelal_explicit.cu\n",
        "\n",
        "#include <stdio.h>\n",
        "#include <stdlib.h>\n",
        "#include <string.h>\n",
        "#include <time.h>\n",
        "\n",
        "#define AND '0'\n",
        "#define OR '1'\n",
        "#define NAND '2'\n",
        "#define NOR '3'\n",
        "#define XOR '4'\n",
        "#define NXOR '5'\n",
        "\n",
        "#define INPUT_LINE_SIZE 7\n",
        "#define OUTPUT_LINE_SIZE 2\n",
        "\n",
        "__global__ \n",
        "void compute(char* input, char* results, int length){\n",
        "  int i = threadIdx.x + blockIdx.x * blockDim.x;\n",
        "  char* line = input + INPUT_LINE_SIZE * i;\n",
        "\n",
        "  char res;\n",
        "  char val1 = line[0];\n",
        "  char val2 = line[2];\n",
        "  char op = line[4];\n",
        "\n",
        "  switch(op){\n",
        "    case AND:\n",
        "      if (val1 == '1' && val2 == '1'){\n",
        "        res = '1';\n",
        "      } else {\n",
        "        res = '0';\n",
        "      }\n",
        "      break;\n",
        "    case OR:\n",
        "      if (val1 == '0' && val2 == '0'){\n",
        "        res = '0';\n",
        "      } else {\n",
        "        res = '1';\n",
        "      }\n",
        "      break;\n",
        "    case NAND:\n",
        "      if (val1 == '1' && val2 == '1'){\n",
        "        res = '0';\n",
        "      } else {\n",
        "        res = '1';\n",
        "      }\n",
        "      break;\n",
        "    case NOR:\n",
        "      if (val1 == '0' && val2 == '0'){\n",
        "        res = '1';\n",
        "      } else {\n",
        "        res = '0';\n",
        "      }\n",
        "      break;\n",
        "    case XOR:\n",
        "      if ((val1 == '0' && val2 == '0') || (val1 == '1' && val2 == '1')){\n",
        "        res = '0';\n",
        "      } else {\n",
        "        res = '1';\n",
        "      }\n",
        "      break;\n",
        "    case NXOR:\n",
        "      if ((val1 == '0' && val2 == '0') || (val1 == '1' && val2 == '1')){\n",
        "        res = '1';\n",
        "      } else {\n",
        "        res = '0';\n",
        "      }\n",
        "      break;\n",
        "    default:\n",
        "      printf(\"Invalid operator: %c\\n\", op);\n",
        "      break;\n",
        "  }\n",
        "\n",
        "  char* output = results + OUTPUT_LINE_SIZE * i;\n",
        "  output[0] = res;\n",
        "  output[1] = '\\0';\n",
        "}\n",
        "\n",
        "int main(int argc, char *argv[])\n",
        "{\n",
        "  if (argc != 4)\n",
        "  {\n",
        "    printf(\"Usage: ./parallelal_explicit <input_file_path> <input_file_length> <output_file_path>\\n\");\n",
        "    exit(1);\n",
        "  }\n",
        " \n",
        "  char *input_path = argv[1];\n",
        "  char *output_path = argv[3];\n",
        "  int length = atoi(argv[2]);\n",
        " \n",
        "  printf(\"Starting ./parallelal_explicit for file of length %d\\n\", length);\n",
        "\n",
        "  FILE *fp_input = fopen(input_path, \"r\");\n",
        "  if (fp_input == NULL)\n",
        "  {\n",
        "    printf(\"Input file failed to open\");\n",
        "    exit(EXIT_FAILURE);\n",
        "  }\n",
        "\n",
        "  int input_size = length * INPUT_LINE_SIZE * sizeof(char);\n",
        "  char *input = (char* ) malloc (input_size);\n",
        "  char line[INPUT_LINE_SIZE];\n",
        "  int offset = 0;\n",
        " \n",
        "  while (fgets(line, sizeof line, fp_input) != NULL)\n",
        "  {\n",
        "    strcpy(input + offset, line);\n",
        "    offset += INPUT_LINE_SIZE;\n",
        "  }\n",
        "\n",
        "  fclose(fp_input);\n",
        "\n",
        "  int output_size = length * OUTPUT_LINE_SIZE * sizeof(char);\n",
        "  char *cuda_input;\n",
        "  char *cuda_output;\n",
        "  float time;\n",
        "\tcudaEvent_t start, stop;\n",
        " \tcudaEventCreate(&start);\n",
        "\tcudaEventCreate(&stop);\n",
        "\n",
        "  // Allocate CUDA memory\n",
        "  cudaMalloc(&cuda_input, input_size);\n",
        "  cudaMalloc(&cuda_output, output_size);\n",
        "\n",
        "  // Copy image from CPU to GPU\n",
        "  clock_t copy_start = clock();\n",
        "  cudaMemcpy(cuda_input, input, input_size, cudaMemcpyHostToDevice);\n",
        "  clock_t copy_end = clock();\n",
        "  float copy_time = ((copy_end - copy_start) * 1000.0) / CLOCKS_PER_SEC;\n",
        "  printf(\"Data migration time: %.3fms\\n\", copy_time);\n",
        " \n",
        "  int num_thread = 1000;\n",
        "  int num_block = length/num_thread;\n",
        " \n",
        "  // Timer starts\n",
        "\tcudaEventRecord(start, 0);\n",
        " \n",
        "  compute <<< num_block, num_thread >>> (cuda_input, cuda_output, length);\n",
        "\n",
        "  // Timer stops\n",
        "\tcudaEventRecord(stop, 0);\n",
        "\tcudaEventSynchronize(stop);\n",
        "\tcudaEventElapsedTime(&time, start, stop);\n",
        "\tprintf(\"Total time: %.3fms\\n\\n\", time);\n",
        " \n",
        "  // Copy image from CPU to GPU\n",
        "  char *output;\n",
        "  output = (char*)malloc(output_size * sizeof(char));\n",
        "\tcudaMemcpy(output, cuda_output, output_size, cudaMemcpyDeviceToHost);\n",
        " \n",
        " \n",
        "  //Write to output\n",
        "  FILE* fp_output = fopen(output_path, \"w+\");\n",
        "  int lineCount = 0;\n",
        "  if (fp_output == NULL){\n",
        "    printf(\"Output file failed to open\");\n",
        "    exit(EXIT_FAILURE);\n",
        "  }\n",
        "\n",
        "  offset = 0;\n",
        "  while (lineCount < length) {\n",
        "    if (lineCount == length - 1) {\n",
        "      fprintf(fp_output, \"%s\", output + offset);\n",
        "    }\n",
        "    else {\n",
        "      fprintf(fp_output, \"%s\\n\", output + offset);\n",
        "    }\n",
        "    offset += OUTPUT_LINE_SIZE;\n",
        "    lineCount++;\n",
        "  }\n",
        "\n",
        "  fclose(fp_output);\n",
        "  \n",
        "  // Free memory\n",
        "  free(input);\n",
        "  free(output);\n",
        "  cudaFree(cuda_input);\n",
        "  cudaFree(cuda_output);\n",
        " \n",
        "  return 0;\n",
        "}"
      ],
      "execution_count": null,
      "outputs": [
        {
          "output_type": "stream",
          "text": [
            "Overwriting parallelal_explicit.cu\n"
          ],
          "name": "stdout"
        }
      ]
    },
    {
      "cell_type": "markdown",
      "metadata": {
        "id": "yKNGh2kO-7-Q"
      },
      "source": [
        "## Run `./parallelal_explicit`"
      ]
    },
    {
      "cell_type": "code",
      "metadata": {
        "id": "0R83dxJSwL4Y",
        "outputId": "8e930460-e80a-4d74-d686-62b43a407090",
        "colab": {
          "base_uri": "https://localhost:8080/",
          "height": 119
        }
      },
      "source": [
        "%%script bash\n",
        "nvcc parallelal_explicit.cu  -o parallelal_explicit\n",
        "gcc compareResults.c  -o compareResults\n",
        "\n",
        "length=10000\n",
        "input=\"input/input_${length}.txt\"\n",
        "output=\"output/${length}.txt\"\n",
        "expected=\"input/sol_${length}.txt\"\n",
        "\n",
        "./parallelal_explicit $input $length $output\n",
        "./compareResults $expected $output"
      ],
      "execution_count": null,
      "outputs": [
        {
          "output_type": "stream",
          "text": [
            "Starting ./parallelal_explicit for file of length 10000\n",
            "Data migration time: 0.034ms\n",
            "Total time: 0.048ms\n",
            "\n",
            "Total Errors : 0\t\n",
            "\n"
          ],
          "name": "stdout"
        }
      ]
    },
    {
      "cell_type": "markdown",
      "metadata": {
        "id": "GAoQVrN5KZms"
      },
      "source": [
        "# Parallel Unified"
      ]
    },
    {
      "cell_type": "markdown",
      "metadata": {
        "id": "NvGQ1Aqhs2-V"
      },
      "source": [
        "\n",
        "## Write parallelal_unified.cu\n",
        "\n",
        "https://developer.nvidia.com/blog/unified-memory-cuda-beginners/"
      ]
    },
    {
      "cell_type": "code",
      "metadata": {
        "id": "ClVwy0C7s2-Y",
        "outputId": "f5a47ebe-75bb-48bf-d85a-141c32bf1f38",
        "colab": {
          "base_uri": "https://localhost:8080/",
          "height": 34
        }
      },
      "source": [
        "%%writefile parallelal_unified.cu\n",
        "\n",
        "#include <stdio.h>\n",
        "#include <stdlib.h>\n",
        "#include <string.h>\n",
        "#include <cuda_runtime.h>\n",
        "\n",
        "#define AND '0'\n",
        "#define OR '1'\n",
        "#define NAND '2'\n",
        "#define NOR '3'\n",
        "#define XOR '4'\n",
        "#define NXOR '5'\n",
        "#define INPUT_LINE_SIZE 7\n",
        "#define OUTPUT_LINE_SIZE 3\n",
        "\n",
        "__global__ \n",
        "void compute(char* input, char* results, int length){\n",
        "  int i = threadIdx.x + blockIdx.x * blockDim.x;\n",
        "  char* line = input + INPUT_LINE_SIZE * i;\n",
        "\n",
        "  char res;\n",
        "  char val1 = line[0];\n",
        "  char val2 = line[2];\n",
        "  char op = line[4];\n",
        "  \n",
        "    switch(op){\n",
        "    case AND:\n",
        "      if (val1 == '1' && val2 == '1'){\n",
        "        res = '1';\n",
        "      } else {\n",
        "        res = '0';\n",
        "      }\n",
        "      break;\n",
        "    case OR:\n",
        "      if (val1 == '0' && val2 == '0'){\n",
        "        res = '0';\n",
        "      } else {\n",
        "        res = '1';\n",
        "      }\n",
        "      break;\n",
        "    case NAND:\n",
        "      if (val1 == '1' && val2 == '1'){\n",
        "        res = '0';\n",
        "      } else {\n",
        "        res = '1';\n",
        "      }\n",
        "      break;\n",
        "    case NOR:\n",
        "      if (val1 == '0' && val2 == '0'){\n",
        "        res = '1';\n",
        "      } else {\n",
        "        res = '0';\n",
        "      }\n",
        "      break;\n",
        "    case XOR:\n",
        "      if ((val1 == '0' && val2 == '0') || (val1 == '1' && val2 == '1')){\n",
        "        res = '0';\n",
        "      } else {\n",
        "        res = '1';\n",
        "      }\n",
        "      break;\n",
        "    case NXOR:\n",
        "      if ((val1 == '0' && val2 == '0') || (val1 == '1' && val2 == '1')){\n",
        "        res = '1';\n",
        "      } else {\n",
        "        res = '0';\n",
        "      }\n",
        "      break;\n",
        "    default:\n",
        "      printf(\"Invalid operator: %c\\n\", op);\n",
        "      break;\n",
        "  }\n",
        "\n",
        "  char* output = results + OUTPUT_LINE_SIZE * i;\n",
        "  output[0] = res;\n",
        "  output[1] = '\\0'; \n",
        "\n",
        "}\n",
        "\n",
        "int main(int argc, char *argv[])\n",
        "{\n",
        "  if (argc != 4)\n",
        "  {\n",
        "    printf(\"Usage: ./parallelal_unified <input_file_path> <input_file_length> <output_file_path>\\n\");\n",
        "    exit(1);\n",
        "  }\n",
        " \n",
        "  char *input_path = argv[1];\n",
        "  char *output_path = argv[3];\n",
        "  int length = atoi(argv[2]);\n",
        " \n",
        "  printf(\"Starting ./parallelal_unified for file of length %d\\n\", length);\n",
        "\n",
        "  FILE *fp_input = fopen(input_path, \"r\");\n",
        "  if (fp_input == NULL)\n",
        "  {\n",
        "    printf(\"Input file failed to open\");\n",
        "    exit(EXIT_FAILURE);\n",
        "  }\n",
        "\n",
        "  // Get content of input file\n",
        "  int input_size = length * INPUT_LINE_SIZE * sizeof(char);\n",
        "  char *input = (char* ) malloc (input_size);\n",
        "  char line[INPUT_LINE_SIZE];\n",
        "  int offset = 0;\n",
        " \n",
        "  while (fgets(line, sizeof line, fp_input) != NULL)\n",
        "  {\n",
        "    strcpy(input + offset, line);\n",
        "    offset += INPUT_LINE_SIZE;\n",
        "  }\n",
        "\n",
        "  fclose(fp_input);\n",
        "\n",
        "  int output_size = length * OUTPUT_LINE_SIZE * sizeof(char);\n",
        "  char *cuda_input;\n",
        "  char *cuda_output;\n",
        "\n",
        "  cudaMallocManaged(&cuda_input, input_size);\n",
        "  cudaMallocManaged(&cuda_output, output_size);\n",
        "\n",
        "  // copy input file content to be used for kernel operation\n",
        "  for (int i = 0; i < input_size; i++) {\n",
        "    cuda_input[i] = input[i]; \n",
        "  }\n",
        "\n",
        "  int num_thread = 1000;\n",
        "  int num_block = length/num_thread;\n",
        " \n",
        "  // # Timer starts\n",
        "\tfloat time;\n",
        "\tcudaEvent_t start, stop;\n",
        "\tcudaEventCreate(&start);\n",
        "\tcudaEventCreate(&stop);\n",
        "\tcudaEventRecord(start, 0);\n",
        " \n",
        "  compute <<< num_block, num_thread >>> (cuda_input, cuda_output, length);\n",
        "\n",
        "  cudaDeviceSynchronize();\n",
        " \n",
        " \t// # Timer stops\n",
        "\tcudaEventRecord(stop, 0);\n",
        "\tcudaEventSynchronize(stop);\n",
        "\tcudaEventElapsedTime(&time, start, stop);\n",
        "\tprintf(\"Total time: %.3fms\\n\\n\", time);\n",
        "\n",
        "  // Write to output\n",
        "  FILE* fp_output = fopen(output_path, \"w+\");\n",
        " \n",
        "  int lineCount = 0;\n",
        "  if (fp_output == NULL){\n",
        "    printf(\"Output file failed to open\");\n",
        "    exit(EXIT_FAILURE);\n",
        "  }\n",
        "\n",
        "  offset = 0;\n",
        "  while (lineCount < length) {\n",
        "    if (lineCount == length - 1) {\n",
        "      fprintf(fp_output, \"%s\", cuda_output + offset);\n",
        "    }\n",
        "    else {\n",
        "      fprintf(fp_output, \"%s\\n\", cuda_output + offset);\n",
        "    }\n",
        "    offset += OUTPUT_LINE_SIZE;\n",
        "    lineCount++;\n",
        "  }\n",
        "\n",
        "  fclose(fp_output);\n",
        "  \n",
        "  // Free memory\n",
        "  free(input);\n",
        "  cudaFree(cuda_input);\n",
        "  cudaFree(cuda_output);\n",
        " \n",
        "  return 0;\n",
        "}"
      ],
      "execution_count": null,
      "outputs": [
        {
          "output_type": "stream",
          "text": [
            "Overwriting parallelal_unified.cu\n"
          ],
          "name": "stdout"
        }
      ]
    },
    {
      "cell_type": "markdown",
      "metadata": {
        "id": "b4uyq_z8mMpu"
      },
      "source": [
        "## Run ./parallelal_unified"
      ]
    },
    {
      "cell_type": "code",
      "metadata": {
        "id": "0RwV7-_9ma3f",
        "outputId": "dcd62279-cb00-45bf-b318-0e39c4ecde62",
        "colab": {
          "base_uri": "https://localhost:8080/",
          "height": 51
        }
      },
      "source": [
        "%%script bash\n",
        "nvcc parallelal_unified.cu  -o parallelal_unified\n",
        "\n",
        "length=1000000\n",
        "input=\"input/input_${length}.txt\"\n",
        "output=\"output/${length}.txt\"\n",
        "\n",
        "./parallelal_unified $input $length $output"
      ],
      "execution_count": null,
      "outputs": [
        {
          "output_type": "stream",
          "text": [
            "length: 1000000\n",
            "Time for file of length: 1000000: 22.203ms, "
          ],
          "name": "stdout"
        }
      ]
    },
    {
      "cell_type": "markdown",
      "metadata": {
        "id": "CjJwH5awTMH2"
      },
      "source": [
        "# Benchmarking\n"
      ]
    },
    {
      "cell_type": "code",
      "metadata": {
        "id": "uXGBvkRxJ9AH",
        "outputId": "14e1d2a7-6364-40f3-9f48-37077a3fdc16",
        "colab": {
          "base_uri": "https://localhost:8080/",
          "height": 332
        }
      },
      "source": [
        "import matplotlib.pyplot as plt \n",
        "import matplotlib as mpl\n",
        "import pandas as pd\n",
        "\n",
        "plt.style.use(\"fivethirtyeight\")\n",
        "d = {'x': [10000, 100000, 1000000], \n",
        "    #  'Sequential': [1.388, 13.333, 135.928], \n",
        "     'Parallel Explicit': [0.047, 0.032, 0.150], \n",
        "     'Parallel Unified': [0.618, 0.950, 3.285]}\n",
        "df = pd.DataFrame(data=d)\n",
        "\n",
        "palette = plt.get_cmap('Set1')\n",
        "num=0\n",
        "for column in df.drop('x', axis=1):\n",
        "  num = num + 1\n",
        "  plt.plot(df['x'], df[column], marker='o', color=palette(num), linewidth=2, alpha=0.9, label=column)\n",
        " \n",
        "plt.legend(loc=2, ncol=2, fontsize=12)\n",
        "plt.title(\"File length VS execution time using 2 different architectures\", loc='left', fontsize=12, fontweight=0, color='black')\n",
        "plt.xlabel(\"File length (line)\", fontsize=12)\n",
        "plt.ylabel(\"Execution time (ms)\", fontsize=12)\n"
      ],
      "execution_count": null,
      "outputs": [
        {
          "output_type": "execute_result",
          "data": {
            "text/plain": [
              "Text(0, 0.5, 'Execution time (ms)')"
            ]
          },
          "metadata": {
            "tags": []
          },
          "execution_count": 63
        },
        {
          "output_type": "display_data",
          "data": {
            "image/png": "[encoded data removed]",
            "text/plain": [
              "<Figure size 432x288 with 1 Axes>"
            ]
          },
          "metadata": {
            "tags": []
          }
        }
      ]
    },
    {
      "cell_type": "code",
      "metadata": {
        "id": "RRZT3TJzzHNZ",
        "outputId": "03b2c3f5-36bf-40f9-f963-e1eaa57fe9cf",
        "colab": {
          "base_uri": "https://localhost:8080/",
          "height": 332
        }
      },
      "source": [
        "import matplotlib.pyplot as plt \n",
        "import matplotlib as mpl\n",
        "import pandas as pd\n",
        "\n",
        "plt.style.use(\"fivethirtyeight\")\n",
        "d = {'x': [10000, 100000, 1000000], \n",
        "     'Parallel Explicit': [0.035, 0.177, 3.285]} \n",
        "df = pd.DataFrame(data=d)\n",
        "\n",
        "palette = plt.get_cmap('Set1')\n",
        "num=0\n",
        "for column in df.drop('x', axis=1):\n",
        "  num = num + 1\n",
        "  plt.plot(df['x'], df[column], marker='o', color=palette(num), linewidth=2, alpha=0.9, label=column)\n",
        " \n",
        "plt.legend(loc=2, ncol=2, fontsize=12)\n",
        "plt.title(\"Data migration time VS File length\", loc='center', fontsize=12, fontweight=0, color='black')\n",
        "plt.xlabel(\"File length (line)\", fontsize=12)\n",
        "plt.ylabel(\"Data migration time (ms)\", fontsize=12)\n"
      ],
      "execution_count": null,
      "outputs": [
        {
          "output_type": "execute_result",
          "data": {
            "text/plain": [
              "Text(0, 0.5, 'Data migration time (ms)')"
            ]
          },
          "metadata": {
            "tags": []
          },
          "execution_count": 66
        },
        {
          "output_type": "display_data",
          "data": {
            "image/png": "[encoded data removed]",
            "text/plain": [
              "<Figure size 432x288 with 1 Axes>"
            ]
          },
          "metadata": {
            "tags": []
          }
        }
      ]
    }
  ]
}